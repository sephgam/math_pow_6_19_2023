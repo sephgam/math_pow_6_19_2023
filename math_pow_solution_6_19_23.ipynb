{
 "cells": [
  {
   "cell_type": "code",
   "execution_count": 36,
   "id": "c0d7163f",
   "metadata": {},
   "outputs": [
    {
     "name": "stdout",
     "output_type": "stream",
     "text": [
      "2860.0\n",
      "Statistical Method:  0.267389\n",
      "Mathematical Method:  0.26783216783216784\n"
     ]
    }
   ],
   "source": [
    "###########\n",
    "#Mathy way#\n",
    "###########\n",
    "import numpy as py\n",
    "import math as math\n",
    "\n",
    "NUM_EARLY = 3\n",
    "NUM_LATE = 9\n",
    "NUM_YOU = 1\n",
    "\n",
    "#Utilize combanatorics to determine total number of \n",
    "total_combinations = math.factorial(13)/(math.factorial(9)*math.factorial(3)*math.factorial(1))\n",
    "\n",
    "orders = [\"BA\", \"BBCA\", \"BBBCCA\", \"BBCBCA\"]\n",
    "\n",
    "#First Order, BA\n",
    "#12 ways for BA to appear\n",
    "#Multiply ways to order the remainder...\n",
    "num_1_order = 12 * (math.factorial(11)/(math.factorial(2)*math.factorial(9)))\n",
    "\n",
    "#Second Order, BBCA\n",
    "#10 ways for BBCA to appear\n",
    "#Multiply ways to order the remainder...\n",
    "num_2_order = 10 * (math.factorial(9)/(math.factorial(1)*math.factorial(8)))\n",
    "\n",
    "#Third Order, BBBCCA\n",
    "#8 ways for BBBCCA to appear\n",
    "#Multiply ways to order the remainder...\n",
    "num_3_order = 8 * (math.factorial(7)/(math.factorial(0)*math.factorial(7)))\n",
    "\n",
    "#Fourth Order, BBCBCA\n",
    "#8 ways for BBCBCA\n",
    "#Multiply ways to order the remainder...\n",
    "num_4_order = 8 * (math.factorial(7)/(math.factorial(0)*math.factorial(7)))\n",
    "\n",
    "\n",
    "#################\n",
    "#Statistical way#\n",
    "#################\n",
    "import random\n",
    "\n",
    "#Variables for counting number of arrays gone through and the number of orders found\n",
    "num_you_find_spot = 0\n",
    "num_sims = 0\n",
    "\n",
    "# Check if the desired orders appear in the randomized array\n",
    "orders = [\"BA\", \"BBCA\", \"BBBCCA\", \"BBCBCA\"]\n",
    "\n",
    "for i in range(1000000):\n",
    "    # Create the array with the specified objects\n",
    "    array = ['A'] + ['B'] * 3 + ['C'] * 9\n",
    "    # Randomize the order of the array\n",
    "    random.shuffle(array)\n",
    "    # Convert the array to a string for easier pattern matching\n",
    "    array_string = ''.join(array)\n",
    "    num_sims += 1\n",
    "    found_order = False\n",
    "    for order in orders:\n",
    "        if (order in array_string) and not found_order:\n",
    "            num_you_find_spot += 1\n",
    "            found_order = True\n",
    "\n",
    "#########          \n",
    "#Results#\n",
    "#########\n",
    "print(\"Statistical Method: \", num_you_find_spot/num_sims)\n",
    "print(\"Mathematical Method: \", (num_1_order + num_2_order + num_3_order + num_4_order)/total_combinations)"
   ]
  }
 ],
 "metadata": {
  "kernelspec": {
   "display_name": "Python 3 (ipykernel)",
   "language": "python",
   "name": "python3"
  },
  "language_info": {
   "codemirror_mode": {
    "name": "ipython",
    "version": 3
   },
   "file_extension": ".py",
   "mimetype": "text/x-python",
   "name": "python",
   "nbconvert_exporter": "python",
   "pygments_lexer": "ipython3",
   "version": "3.9.13"
  }
 },
 "nbformat": 4,
 "nbformat_minor": 5
}
